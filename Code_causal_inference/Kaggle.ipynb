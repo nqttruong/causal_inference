{
 "cells": [
  {
   "cell_type": "code",
   "execution_count": 1,
   "id": "b413e422",
   "metadata": {},
   "outputs": [
    {
     "name": "stdout",
     "output_type": "stream",
     "text": [
      "Requirement already satisfied: dowhy in c:\\users\\admin\\anaconda3\\lib\\site-packages (0.0.0)\n",
      "Requirement already satisfied: scipy>=1.4.1 in c:\\users\\admin\\anaconda3\\lib\\site-packages (from dowhy) (1.7.3)\n",
      "Requirement already satisfied: statsmodels>=0.13.5 in c:\\users\\admin\\anaconda3\\lib\\site-packages (from dowhy) (0.14.0)\n",
      "Requirement already satisfied: sympy<2.0.0,>=1.10.1 in c:\\users\\admin\\anaconda3\\lib\\site-packages (from dowhy) (1.10.1)\n",
      "Requirement already satisfied: networkx>=2.8.5 in c:\\users\\admin\\anaconda3\\lib\\site-packages (from dowhy) (3.2.1)\n",
      "Requirement already satisfied: numpy>=1.20 in c:\\users\\admin\\anaconda3\\lib\\site-packages (from dowhy) (1.22.4)\n",
      "Requirement already satisfied: scikit-learn>1.0 in c:\\users\\admin\\anaconda3\\lib\\site-packages (from dowhy) (1.3.2)\n",
      "Requirement already satisfied: cython<0.30.0,>=0.29.32 in c:\\users\\admin\\anaconda3\\lib\\site-packages (from dowhy) (0.29.36)\n",
      "Requirement already satisfied: tqdm>=4.64.0 in c:\\users\\admin\\anaconda3\\lib\\site-packages (from dowhy) (4.64.0)\n",
      "Requirement already satisfied: causal-learn>=0.1.3.0 in c:\\users\\admin\\anaconda3\\lib\\site-packages (from dowhy) (0.1.3.6)\n",
      "Requirement already satisfied: cvxpy<2.0.0,>=1.2.2 in c:\\users\\admin\\anaconda3\\lib\\site-packages (from dowhy) (1.4.1)\n",
      "Requirement already satisfied: pandas>=1.4.3 in c:\\users\\admin\\anaconda3\\lib\\site-packages (from dowhy) (2.1.2)\n",
      "Requirement already satisfied: joblib>=1.1.0 in c:\\users\\admin\\anaconda3\\lib\\site-packages (from dowhy) (1.3.2)\n",
      "Requirement already satisfied: pydot in c:\\users\\admin\\anaconda3\\lib\\site-packages (from causal-learn>=0.1.3.0->dowhy) (1.4.2)\n",
      "Requirement already satisfied: graphviz in c:\\users\\admin\\anaconda3\\lib\\site-packages (from causal-learn>=0.1.3.0->dowhy) (0.20.1)\n",
      "Requirement already satisfied: matplotlib in c:\\users\\admin\\anaconda3\\lib\\site-packages (from causal-learn>=0.1.3.0->dowhy) (3.5.1)\n",
      "Requirement already satisfied: ecos>=2 in c:\\users\\admin\\anaconda3\\lib\\site-packages (from cvxpy<2.0.0,>=1.2.2->dowhy) (2.0.12)\n",
      "Requirement already satisfied: scs>=3.0 in c:\\users\\admin\\anaconda3\\lib\\site-packages (from cvxpy<2.0.0,>=1.2.2->dowhy) (3.2.3)\n",
      "Requirement already satisfied: pybind11 in c:\\users\\admin\\anaconda3\\lib\\site-packages (from cvxpy<2.0.0,>=1.2.2->dowhy) (2.11.1)\n",
      "Requirement already satisfied: clarabel>=0.5.0 in c:\\users\\admin\\anaconda3\\lib\\site-packages (from cvxpy<2.0.0,>=1.2.2->dowhy) (0.6.0)\n",
      "Requirement already satisfied: osqp>=0.6.2 in c:\\users\\admin\\anaconda3\\lib\\site-packages (from cvxpy<2.0.0,>=1.2.2->dowhy) (0.6.3)\n",
      "Requirement already satisfied: qdldl in c:\\users\\admin\\anaconda3\\lib\\site-packages (from osqp>=0.6.2->cvxpy<2.0.0,>=1.2.2->dowhy) (0.1.7.post0)\n",
      "Requirement already satisfied: tzdata>=2022.1 in c:\\users\\admin\\anaconda3\\lib\\site-packages (from pandas>=1.4.3->dowhy) (2023.3)\n",
      "Requirement already satisfied: pytz>=2020.1 in c:\\users\\admin\\anaconda3\\lib\\site-packages (from pandas>=1.4.3->dowhy) (2021.3)\n",
      "Requirement already satisfied: python-dateutil>=2.8.2 in c:\\users\\admin\\anaconda3\\lib\\site-packages (from pandas>=1.4.3->dowhy) (2.8.2)\n",
      "Requirement already satisfied: six>=1.5 in c:\\users\\admin\\anaconda3\\lib\\site-packages (from python-dateutil>=2.8.2->pandas>=1.4.3->dowhy) (1.16.0)\n",
      "Requirement already satisfied: threadpoolctl>=2.0.0 in c:\\users\\admin\\anaconda3\\lib\\site-packages (from scikit-learn>1.0->dowhy) (2.2.0)\n",
      "Requirement already satisfied: packaging>=21.3 in c:\\users\\admin\\anaconda3\\lib\\site-packages (from statsmodels>=0.13.5->dowhy) (21.3)\n",
      "Requirement already satisfied: patsy>=0.5.2 in c:\\users\\admin\\anaconda3\\lib\\site-packages (from statsmodels>=0.13.5->dowhy) (0.5.2)\n",
      "Requirement already satisfied: pyparsing!=3.0.5,>=2.0.2 in c:\\users\\admin\\anaconda3\\lib\\site-packages (from packaging>=21.3->statsmodels>=0.13.5->dowhy) (3.0.4)\n",
      "Requirement already satisfied: mpmath>=0.19 in c:\\users\\admin\\anaconda3\\lib\\site-packages (from sympy<2.0.0,>=1.10.1->dowhy) (1.2.1)\n",
      "Requirement already satisfied: colorama in c:\\users\\admin\\anaconda3\\lib\\site-packages (from tqdm>=4.64.0->dowhy) (0.4.4)\n",
      "Requirement already satisfied: pillow>=6.2.0 in c:\\users\\admin\\anaconda3\\lib\\site-packages (from matplotlib->causal-learn>=0.1.3.0->dowhy) (9.0.1)\n",
      "Requirement already satisfied: cycler>=0.10 in c:\\users\\admin\\anaconda3\\lib\\site-packages (from matplotlib->causal-learn>=0.1.3.0->dowhy) (0.11.0)\n",
      "Requirement already satisfied: fonttools>=4.22.0 in c:\\users\\admin\\anaconda3\\lib\\site-packages (from matplotlib->causal-learn>=0.1.3.0->dowhy) (4.25.0)\n",
      "Requirement already satisfied: kiwisolver>=1.0.1 in c:\\users\\admin\\anaconda3\\lib\\site-packages (from matplotlib->causal-learn>=0.1.3.0->dowhy) (1.3.2)\n"
     ]
    }
   ],
   "source": [
    "import numpy as np\n",
    "import pandas as pd\n",
    "import matplotlib.pyplot as plt\n",
    "import seaborn as sns\n",
    "\n",
    "!pip install dowhy\n",
    "import dowhy\n",
    "from dowhy import CausalModel\n",
    "\n",
    "import warnings\n",
    "warnings.filterwarnings('ignore')"
   ]
  },
  {
   "cell_type": "code",
   "execution_count": 2,
   "id": "648087bf",
   "metadata": {},
   "outputs": [
    {
     "data": {
      "text/html": [
       "<div>\n",
       "<style scoped>\n",
       "    .dataframe tbody tr th:only-of-type {\n",
       "        vertical-align: middle;\n",
       "    }\n",
       "\n",
       "    .dataframe tbody tr th {\n",
       "        vertical-align: top;\n",
       "    }\n",
       "\n",
       "    .dataframe thead th {\n",
       "        text-align: right;\n",
       "    }\n",
       "</style>\n",
       "<table border=\"1\" class=\"dataframe\">\n",
       "  <thead>\n",
       "    <tr style=\"text-align: right;\">\n",
       "      <th></th>\n",
       "      <th>user_id</th>\n",
       "      <th>signup_month</th>\n",
       "      <th>month</th>\n",
       "      <th>spend</th>\n",
       "      <th>treatment</th>\n",
       "    </tr>\n",
       "  </thead>\n",
       "  <tbody>\n",
       "    <tr>\n",
       "      <th>0</th>\n",
       "      <td>0</td>\n",
       "      <td>0</td>\n",
       "      <td>1</td>\n",
       "      <td>521</td>\n",
       "      <td>False</td>\n",
       "    </tr>\n",
       "    <tr>\n",
       "      <th>1</th>\n",
       "      <td>0</td>\n",
       "      <td>0</td>\n",
       "      <td>2</td>\n",
       "      <td>488</td>\n",
       "      <td>False</td>\n",
       "    </tr>\n",
       "    <tr>\n",
       "      <th>2</th>\n",
       "      <td>0</td>\n",
       "      <td>0</td>\n",
       "      <td>3</td>\n",
       "      <td>479</td>\n",
       "      <td>False</td>\n",
       "    </tr>\n",
       "    <tr>\n",
       "      <th>3</th>\n",
       "      <td>0</td>\n",
       "      <td>0</td>\n",
       "      <td>4</td>\n",
       "      <td>475</td>\n",
       "      <td>False</td>\n",
       "    </tr>\n",
       "    <tr>\n",
       "      <th>4</th>\n",
       "      <td>0</td>\n",
       "      <td>0</td>\n",
       "      <td>5</td>\n",
       "      <td>456</td>\n",
       "      <td>False</td>\n",
       "    </tr>\n",
       "    <tr>\n",
       "      <th>...</th>\n",
       "      <td>...</td>\n",
       "      <td>...</td>\n",
       "      <td>...</td>\n",
       "      <td>...</td>\n",
       "      <td>...</td>\n",
       "    </tr>\n",
       "    <tr>\n",
       "      <th>119995</th>\n",
       "      <td>9999</td>\n",
       "      <td>2</td>\n",
       "      <td>8</td>\n",
       "      <td>541</td>\n",
       "      <td>True</td>\n",
       "    </tr>\n",
       "    <tr>\n",
       "      <th>119996</th>\n",
       "      <td>9999</td>\n",
       "      <td>2</td>\n",
       "      <td>9</td>\n",
       "      <td>499</td>\n",
       "      <td>True</td>\n",
       "    </tr>\n",
       "    <tr>\n",
       "      <th>119997</th>\n",
       "      <td>9999</td>\n",
       "      <td>2</td>\n",
       "      <td>10</td>\n",
       "      <td>518</td>\n",
       "      <td>True</td>\n",
       "    </tr>\n",
       "    <tr>\n",
       "      <th>119998</th>\n",
       "      <td>9999</td>\n",
       "      <td>2</td>\n",
       "      <td>11</td>\n",
       "      <td>488</td>\n",
       "      <td>True</td>\n",
       "    </tr>\n",
       "    <tr>\n",
       "      <th>119999</th>\n",
       "      <td>9999</td>\n",
       "      <td>2</td>\n",
       "      <td>12</td>\n",
       "      <td>494</td>\n",
       "      <td>True</td>\n",
       "    </tr>\n",
       "  </tbody>\n",
       "</table>\n",
       "<p>120000 rows × 5 columns</p>\n",
       "</div>"
      ],
      "text/plain": [
       "        user_id  signup_month  month  spend  treatment\n",
       "0             0             0      1    521      False\n",
       "1             0             0      2    488      False\n",
       "2             0             0      3    479      False\n",
       "3             0             0      4    475      False\n",
       "4             0             0      5    456      False\n",
       "...         ...           ...    ...    ...        ...\n",
       "119995     9999             2      8    541       True\n",
       "119996     9999             2      9    499       True\n",
       "119997     9999             2     10    518       True\n",
       "119998     9999             2     11    488       True\n",
       "119999     9999             2     12    494       True\n",
       "\n",
       "[120000 rows x 5 columns]"
      ]
     },
     "execution_count": 2,
     "metadata": {},
     "output_type": "execute_result"
    }
   ],
   "source": [
    "np.random.seed(42)\n",
    "\n",
    "num_users = 10000\n",
    "num_months = 12\n",
    "\n",
    "signup_months = np.random.choice(np.arange(1, num_months), num_users) * np.random.randint(0,2, size=num_users) # signup_months == 0 means customer did not sign up\n",
    "df = pd.DataFrame({\n",
    "    'user_id': np.repeat(np.arange(num_users), num_months),\n",
    "    'signup_month': np.repeat(signup_months, num_months), # signup month == 0 means customer did not sign up\n",
    "    'month': np.tile(np.arange(1, num_months+1), num_users), # months are from 1 to 12\n",
    "    'spend': np.random.poisson(500, num_users*num_months) #np.random.beta(a=2, b=5, size=num_users * num_months)*1000 # centered at 500\n",
    "})\n",
    "# A customer is in the treatment group if and only if they signed up\n",
    "df[\"treatment\"] = df[\"signup_month\"]>0\n",
    "# Simulating an effect of month (monotonically decreasing--customers buy less later in the year)\n",
    "df[\"spend\"] = df[\"spend\"] - df[\"month\"]*10\n",
    "# Simulating a simple treatment effect of 100\n",
    "after_signup = (df[\"signup_month\"] < df[\"month\"]) & (df[\"treatment\"])\n",
    "df.loc[after_signup,\"spend\"] = df[after_signup][\"spend\"] + 100\n",
    "df"
   ]
  },
  {
   "cell_type": "code",
   "execution_count": 3,
   "id": "eb8db207",
   "metadata": {},
   "outputs": [],
   "source": [
    "i = 3\n",
    "\n",
    "causal_graph = \"\"\"digraph {\n",
    "treatment[label=\"Program Signup in month i\"];\n",
    "pre_spends;\n",
    "post_spends;\n",
    "Z->treatment;\n",
    "pre_spends -> treatment;\n",
    "treatment->post_spends;\n",
    "signup_month->post_spends;\n",
    "signup_month->treatment;\n",
    "}\"\"\""
   ]
  },
  {
   "cell_type": "code",
   "execution_count": 4,
   "id": "747111e2",
   "metadata": {},
   "outputs": [
    {
     "name": "stdout",
     "output_type": "stream",
     "text": [
      "      user_id  signup_month  treatment  pre_spends  post_spends\n",
      "0           0             0      False       504.5   422.777778\n",
      "1           2             0      False       485.0   434.000000\n",
      "2           4             0      False       488.5   420.111111\n",
      "3           5             0      False       475.0   408.333333\n",
      "4           6             0      False       494.0   423.666667\n",
      "...       ...           ...        ...         ...          ...\n",
      "5468     9992             0      False       456.5   404.888889\n",
      "5469     9993             0      False       503.0   431.888889\n",
      "5470     9994             0      False       480.0   411.444444\n",
      "5471     9996             0      False       453.0   406.888889\n",
      "5472     9997             0      False       461.0   415.111111\n",
      "\n",
      "[5473 rows x 5 columns]\n"
     ]
    }
   ],
   "source": [
    "df_i_signupmonth = (\n",
    "    df[df.signup_month.isin([0, i])]\n",
    "    .groupby([\"user_id\", \"signup_month\", \"treatment\"])\n",
    "    .apply(\n",
    "        lambda x: pd.Series(\n",
    "            {\n",
    "                \"pre_spends\": x.loc[x.month < i, \"spend\"].mean(),\n",
    "                \"post_spends\": x.loc[x.month > i, \"spend\"].mean(),\n",
    "            }\n",
    "        )\n",
    "    )\n",
    "    .reset_index()\n",
    ")\n",
    "print(df_i_signupmonth)"
   ]
  },
  {
   "cell_type": "code",
   "execution_count": 5,
   "id": "151ca4b9",
   "metadata": {},
   "outputs": [
    {
     "data": {
      "image/png": "[encoded data removed]",
      "text/plain": [
       "<Figure size 576x432 with 1 Axes>"
      ]
     },
     "metadata": {},
     "output_type": "display_data"
    }
   ],
   "source": [
    "model = dowhy.CausalModel(data=df_i_signupmonth,\n",
    "                          graph=causal_graph.replace(\"\\n\", \" \"),\n",
    "                          treatment=\"treatment\",\n",
    "                          outcome=\"post_spends\")\n",
    "model.view_model()"
   ]
  },
  {
   "cell_type": "code",
   "execution_count": 6,
   "id": "3438503d",
   "metadata": {},
   "outputs": [
    {
     "name": "stdout",
     "output_type": "stream",
     "text": [
      "Estimand type: EstimandType.NONPARAMETRIC_ATE\n",
      "\n",
      "### Estimand : 1\n",
      "Estimand name: backdoor\n",
      "Estimand expression:\n",
      "     d                                   \n",
      "────────────(E[post_spends|signup_month])\n",
      "d[treatment]                             \n",
      "Estimand assumption 1, Unconfoundedness: If U→{treatment} and U→post_spends then P(post_spends|treatment,signup_month,U) = P(post_spends|treatment,signup_month)\n",
      "\n",
      "### Estimand : 2\n",
      "Estimand name: iv\n",
      "Estimand expression:\n",
      " ⎡                                                             -1⎤\n",
      " ⎢       d                      ⎛       d                     ⎞  ⎥\n",
      "E⎢────────────────(post_spends)⋅⎜────────────────([treatment])⎟  ⎥\n",
      " ⎣d[Z  pre_spends]              ⎝d[Z  pre_spends]             ⎠  ⎦\n",
      "Estimand assumption 1, As-if-random: If U→→post_spends then ¬(U →→{Z,pre_spends})\n",
      "Estimand assumption 2, Exclusion: If we remove {Z,pre_spends}→{treatment}, then ¬({Z,pre_spends}→post_spends)\n",
      "\n",
      "### Estimand : 3\n",
      "Estimand name: frontdoor\n",
      "No such variable(s) found!\n",
      "\n"
     ]
    }
   ],
   "source": [
    "identified_estimand = model.identify_effect(proceed_when_unidentifiable=True)\n",
    "print(identified_estimand)"
   ]
  },
  {
   "cell_type": "code",
   "execution_count": 7,
   "id": "57e884cc",
   "metadata": {},
   "outputs": [
    {
     "name": "stdout",
     "output_type": "stream",
     "text": [
      "*** Causal Estimate ***\n",
      "\n",
      "## Identified estimand\n",
      "Estimand type: EstimandType.NONPARAMETRIC_ATE\n",
      "\n",
      "### Estimand : 1\n",
      "Estimand name: backdoor\n",
      "Estimand expression:\n",
      "     d                                   \n",
      "────────────(E[post_spends|signup_month])\n",
      "d[treatment]                             \n",
      "Estimand assumption 1, Unconfoundedness: If U→{treatment} and U→post_spends then P(post_spends|treatment,signup_month,U) = P(post_spends|treatment,signup_month)\n",
      "\n",
      "## Realized estimand\n",
      "b: post_spends~treatment+signup_month\n",
      "Target units: att\n",
      "\n",
      "## Estimate\n",
      "Mean value: 97.49138947865055\n",
      "\n"
     ]
    }
   ],
   "source": [
    "estimate = model.estimate_effect(identified_estimand,\n",
    "                                 method_name='backdoor.propensity_score_matching',\n",
    "                                 target_units='att')\n",
    "print(estimate)"
   ]
  },
  {
   "cell_type": "code",
   "execution_count": 8,
   "id": "4f2ac6f2",
   "metadata": {},
   "outputs": [
    {
     "name": "stdout",
     "output_type": "stream",
     "text": [
      "Refute: Use a Placebo Treatment\n",
      "Estimated effect:97.49138947865055\n",
      "New effect:-3.122080679405515\n",
      "p value:0.14662574517912463\n",
      "\n"
     ]
    }
   ],
   "source": [
    "refutation = model.refute_estimate(identified_estimand, estimate, method_name='placebo_treatment_refuter',\n",
    "                     placebo_type='permute', num_simulations=20)\n",
    "print(refutation)"
   ]
  },
  {
   "cell_type": "code",
   "execution_count": null,
   "id": "6047aefb",
   "metadata": {},
   "outputs": [],
   "source": []
  },
  {
   "cell_type": "code",
   "execution_count": null,
   "id": "367f0875",
   "metadata": {},
   "outputs": [],
   "source": []
  },
  {
   "cell_type": "code",
   "execution_count": null,
   "id": "b5f78464",
   "metadata": {},
   "outputs": [],
   "source": []
  }
 ],
 "metadata": {
  "kernelspec": {
   "display_name": "Python 3 (ipykernel)",
   "language": "python",
   "name": "python3"
  },
  "language_info": {
   "codemirror_mode": {
    "name": "ipython",
    "version": 3
   },
   "file_extension": ".py",
   "mimetype": "text/x-python",
   "name": "python",
   "nbconvert_exporter": "python",
   "pygments_lexer": "ipython3",
   "version": "3.9.12"
  }
 },
 "nbformat": 4,
 "nbformat_minor": 5
}
